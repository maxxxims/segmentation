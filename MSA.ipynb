{
 "cells": [
  {
   "cell_type": "code",
   "execution_count": 3,
   "metadata": {},
   "outputs": [],
   "source": [
    "from statistics import NormalDist\n",
    "import numpy as np\n",
    "from GageRnR import GageRnR\n",
    "from GageRnR import GageRnR, Component, Result\n",
    "from pathlib import Path\n",
    "import pandas as pd"
   ]
  },
  {
   "cell_type": "code",
   "execution_count": 4,
   "metadata": {},
   "outputs": [],
   "source": [
    "class MSA:\n",
    "    r: int # number replications or trials\n",
    "    t: int # number technicians\n",
    "    p: int # number parts\n",
    "    def __init__(self): ...\n",
    "    def from_csv(self, path_to_csv: Path, drop_columns: list = None):\n",
    "        if isinstance(path_to_csv, str):   path_to_csv = Path(path_to_csv)\n",
    "        if '.csv' in path_to_csv.name:      df = pd.read_csv(path_to_csv)\n",
    "        elif '.xlsx' in path_to_csv.name:   df = pd.read_excel(path_to_csv)\n",
    "        else:   raise Exception('Unknown file format')\n",
    "        data = []\n",
    "        for operator in df['Operator'].unique():\n",
    "            part_data = []\n",
    "            for part in df['Parts'].unique():\n",
    "                _data = df[(df['Operator'] == operator) & (df['Parts'] == part)].drop(columns=['Operator', 'Parts']).values[0]\n",
    "                part_data.append(_data)\n",
    "            data.append(part_data)\n",
    "        self.data = np.array(data)\n",
    "        self.calculate_grnr()\n",
    "        self.calculate_sgm()\n",
    "        self.calculate_metrics()\n",
    "        return self\n",
    "    \n",
    "    def from_array(self, data: np.ndarray):\n",
    "        self.data = data\n",
    "        self.calculate_grnr()\n",
    "        self.calculate_sgm()\n",
    "        self.calculate_metrics()\n",
    "        return self\n",
    "    \n",
    "    def calculate_grnr(self):\n",
    "        self.g = GageRnR(self.data)\n",
    "        self.result = self.g.calculate()\n",
    "        self.RWI_df = self.result[Result.DF][Component.OPERATOR_BY_PART] + self.result[Result.DF][Component.MEASUREMENT]\n",
    "        self.RWI_SS = self.result[Result.SS][Component.OPERATOR_BY_PART] + self.result[Result.SS][Component.MEASUREMENT]\n",
    "        self.RWI_MS = self.RWI_SS / self.RWI_df\n",
    "        self.p_interaction = self.result[Result.P][Component.OPERATOR_BY_PART]\n",
    "        self.p_big = self.p_interaction > 0.05\n",
    "        \n",
    "    @property\n",
    "    def t(self):   \n",
    "        \"\"\"Number of operators\"\"\" \n",
    "        return self.g.operators\n",
    "    @property\n",
    "    def p(self):\n",
    "        \"\"\"number of parts\"\"\"\n",
    "        return self.g.parts\n",
    "    @property\n",
    "    def r(self):    \n",
    "        \"\"\"Number of measurements or replications\"\"\"\n",
    "        return self.g.measurements\n",
    "    \n",
    "    def calculate_sgm(self):\n",
    "        if self.p_big:\n",
    "            self.sgm2_rpt = self.RWI_MS\n",
    "        else:\n",
    "            self.sgm2_rpt = self.result[Result.MS][Component.MEASUREMENT]\n",
    "\n",
    "        self.sgm2_txp = (self.result[Result.MS][Component.OPERATOR_BY_PART] - self.sgm2_rpt) / self.r\n",
    "        \n",
    "        if self.p_big:\n",
    "            self.sgm2_part = (\n",
    "                self.result[Result.MS][Component.PART] - self.RWI_MS\n",
    "            ) / (self.r * self.t)\n",
    "        else:\n",
    "            self.sgm2_part = (\n",
    "                self.result[Result.MS][Component.PART] - self.result[Result.MS][Component.OPERATOR_BY_PART]\n",
    "            ) / (self.r * self.t)\n",
    "            \n",
    "        if self.p_big:\n",
    "            self.sgm2_tech = (\n",
    "                self.result[Result.MS][Component.OPERATOR] - self.RWI_MS\n",
    "            ) / (self.r * self.p)\n",
    "            \n",
    "        else: \n",
    "            self.sgm2_tech = (\n",
    "                self.result[Result.MS][Component.OPERATOR] - self.result[Result.MS][Component.OPERATOR_BY_PART]\n",
    "            ) / (self.r * self.p)\n",
    "            \n",
    "        self.sgm2_rpt  = max(0, self.sgm2_rpt)\n",
    "        self.sgm2_txp  = max(0, self.sgm2_txp)\n",
    "        self.sgm2_part = max(0, self.sgm2_part)\n",
    "        self.sgm2_tech = max(0, self.sgm2_tech)\n",
    "    \n",
    "    def calculate_metrics(self):\n",
    "        self._GageRnR = self.sgm2_rpt + self.sgm2_tech\n",
    "        self._EV = self.sgm2_rpt\n",
    "        self._TechVar = self.sgm2_tech + self.sgm2_txp\n",
    "        self._P2P = self.sgm2_part\n",
    "        self._Total_Var = self.sgm2_rpt + self.sgm2_part + self.sgm2_tech + self.sgm2_txp\n",
    "        \n",
    "    def GageRnR(self, prcntg: bool = True):\n",
    "        if prcntg:      return self._GageRnR / self._Total_Var * 100\n",
    "        else:           return self._GageRnR\n",
    "    def EV(self, prcntg: bool = True):\n",
    "        if prcntg:      return self._EV / self._Total_Var * 100\n",
    "        else:           return self._EV\n",
    "    def TechVar(self, prcntg: bool = True):\n",
    "        if prcntg:      return self._TechVar / self._Total_Var * 100\n",
    "        else:           return self._TechVar\n",
    "    def P2P(self, prcntg: bool = True):\n",
    "        if prcntg:      return self._P2P / self._Total_Var * 100\n",
    "        else:           return self._P2P\n",
    "    def Total_Var(self, prcntg: bool = True):\n",
    "        if prcntg:      return self._Total_Var / self._Total_Var * 100\n",
    "        else:           return self._Total_Var\n",
    "        \n",
    "    def summary(self):\n",
    "        print(self.g.summary())\n",
    "        \n",
    "    def get_result(self, prcntg: bool = True):\n",
    "        print(f\"\"\"\n",
    "    GageRnR: {round(self.GageRnR(prcntg), 2)}{'%' if prcntg else ''}\n",
    "    EV: {round(self.EV(prcntg), 2)}{'%' if prcntg else ''}\n",
    "    TechVar: {round(self.TechVar(prcntg), 2)}{'%' if prcntg else ''}\n",
    "    P2P: {round(self.P2P(prcntg), 2)}{'%' if prcntg else ''}\n",
    "    Total_Var: {round(self.Total_Var(prcntg), 2)} {'%' if prcntg else ''}\n",
    "              \"\"\")"
   ]
  },
  {
   "cell_type": "code",
   "execution_count": 87,
   "metadata": {},
   "outputs": [],
   "source": [
    "class MSA:\n",
    "    r: int # number replications or trials\n",
    "    t: int # number technicians\n",
    "    p: int # number parts\n",
    "    def __init__(self): ...\n",
    "    def from_csv(self, path_to_csv: Path, drop_columns: list = None):\n",
    "        if isinstance(path_to_csv, str):   path_to_csv = Path(path_to_csv)\n",
    "        if '.csv' in path_to_csv.name:      df = pd.read_csv(path_to_csv)\n",
    "        elif '.xlsx' in path_to_csv.name:   df = pd.read_excel(path_to_csv)\n",
    "        else:   raise Exception('Unknown file format')\n",
    "        data = []\n",
    "        for operator in df['Operator'].unique():\n",
    "            part_data = []\n",
    "            for part in df['Parts'].unique():\n",
    "                _data = df[(df['Operator'] == operator) & (df['Parts'] == part)].drop(columns=['Operator', 'Parts']).values[0]\n",
    "                part_data.append(_data)\n",
    "            data.append(part_data)\n",
    "        self.data = np.array(data)\n",
    "        self.calculate_grnr()\n",
    "        self.calculate_sgm()\n",
    "        self.calculate_metrics()\n",
    "        return self\n",
    "    \n",
    "    def from_array(self, data: np.ndarray):\n",
    "        self.data = data\n",
    "        self.calculate_grnr()\n",
    "        self.calculate_sgm()\n",
    "        self.calculate_metrics()\n",
    "        return self\n",
    "    \n",
    "    def calculate_grnr(self):\n",
    "        self.g = GageRnR(self.data)\n",
    "        self.result = self.g.calculate()\n",
    "        self.RWI_df = self.result[Result.DF][Component.OPERATOR_BY_PART] + self.result[Result.DF][Component.MEASUREMENT]\n",
    "        self.RWI_SS = self.result[Result.SS][Component.OPERATOR_BY_PART] + self.result[Result.SS][Component.MEASUREMENT]\n",
    "        self.RWI_MS = self.RWI_SS / self.RWI_df\n",
    "        self.p_interaction = self.result[Result.P][Component.OPERATOR_BY_PART]\n",
    "        self.p_big = self.p_interaction > 0.05\n",
    "        \n",
    "    @property\n",
    "    def t(self):   \n",
    "        \"\"\"Number of operators\"\"\" \n",
    "        return self.g.operators\n",
    "    @property\n",
    "    def p(self):\n",
    "        \"\"\"number of parts\"\"\"\n",
    "        return self.g.parts\n",
    "    @property\n",
    "    def r(self):    \n",
    "        \"\"\"Number of measurements or replications\"\"\"\n",
    "        return self.g.measurements\n",
    "    \n",
    "    def calculate_sgm(self):\n",
    "        if self.p_big:\n",
    "            self.sgm2_rpt = self.RWI_MS\n",
    "        else:\n",
    "            self.sgm2_rpt = self.result[Result.MS][Component.MEASUREMENT]\n",
    "\n",
    "        self.sgm2_txp = (self.result[Result.MS][Component.OPERATOR_BY_PART] - self.sgm2_rpt) / self.r\n",
    "        \n",
    "        if self.p_big:\n",
    "            self.sgm2_part = (\n",
    "                self.result[Result.MS][Component.PART] - self.RWI_MS\n",
    "            ) / (self.r * self.t)\n",
    "        else:\n",
    "            self.sgm2_part = (\n",
    "                self.result[Result.MS][Component.PART] - self.result[Result.MS][Component.OPERATOR_BY_PART]\n",
    "            ) / (self.r * self.t)\n",
    "            \n",
    "        if self.p_big:\n",
    "            self.sgm2_tech = (\n",
    "                self.result[Result.MS][Component.OPERATOR] - self.RWI_MS\n",
    "            ) / (self.r * self.p)\n",
    "            \n",
    "        else: \n",
    "            self.sgm2_tech = (\n",
    "                self.result[Result.MS][Component.OPERATOR] - self.result[Result.MS][Component.OPERATOR_BY_PART]\n",
    "            ) / (self.r * self.p)\n",
    "            \n",
    "        self.sgm2_rpt  = max(0, self.sgm2_rpt)\n",
    "        self.sgm2_txp  = max(0, self.sgm2_txp)\n",
    "        self.sgm2_part = max(0, self.sgm2_part)\n",
    "        self.sgm2_tech = max(0, self.sgm2_tech)\n",
    "    \n",
    "    def calculate_metrics(self):\n",
    "        self._GageRnR = self.sgm2_rpt + self.sgm2_tech\n",
    "        self._EV = self.sgm2_rpt\n",
    "        self._TechVar = self.sgm2_tech + self.sgm2_txp\n",
    "        self._P2P = self.sgm2_part\n",
    "        self._Total_Var = self.sgm2_rpt + self.sgm2_part + self.sgm2_tech + self.sgm2_txp\n",
    "        \n",
    "    def GageRnR(self, prcntg: bool = True):\n",
    "        if prcntg:      return self._GageRnR / self._Total_Var * 100\n",
    "        else:           return self._GageRnR\n",
    "    def EV(self, prcntg: bool = True):\n",
    "        if prcntg:      return self._EV / self._Total_Var * 100\n",
    "        else:           return self._EV\n",
    "    def TechVar(self, prcntg: bool = True):\n",
    "        if prcntg:      return self._TechVar / self._Total_Var * 100\n",
    "        else:           return self._TechVar\n",
    "    def P2P(self, prcntg: bool = True):\n",
    "        if prcntg:      return self._P2P / self._Total_Var * 100\n",
    "        else:           return self._P2P\n",
    "    def Total_Var(self, prcntg: bool = True):\n",
    "        if prcntg:      return self._Total_Var / self._Total_Var * 100\n",
    "        else:           return self._Total_Var\n",
    "        \n",
    "    def summary(self):\n",
    "        print(self.g.summary())\n",
    "        \n",
    "    def get_result(self, prcntg: bool = True):\n",
    "        print(f\"\"\"\n",
    "    GageRnR: {round(self.GageRnR(prcntg), 2)}{'%' if prcntg else ''}\n",
    "    EV: {round(self.EV(prcntg), 2)}{'%' if prcntg else ''}\n",
    "    TechVar: {round(self.TechVar(prcntg), 2)}{'%' if prcntg else ''}\n",
    "    P2P: {round(self.P2P(prcntg), 2)}{'%' if prcntg else ''}\n",
    "    Total_Var: {round(self.Total_Var(prcntg), 2)} {'%' if prcntg else ''}\n",
    "              \"\"\")"
   ]
  },
  {
   "cell_type": "code",
   "execution_count": 6,
   "metadata": {},
   "outputs": [
    {
     "name": "stdout",
     "output_type": "stream",
     "text": [
      "\n",
      "    GageRnR: 87.46%\n",
      "    EV: 50.99%\n",
      "    TechVar: 39.53%\n",
      "    P2P: 9.48%\n",
      "    Total_Var: 100.0 %\n",
      "              \n"
     ]
    }
   ],
   "source": [
    "msa = MSA().from_csv(path_to_csv='backend/research/table.csv')\n",
    "prcntg = True\n",
    "msa.get_result(prcntg=prcntg)\n",
    "#msa.GageRnR(prcntg=prcntg), msa.EV(prcntg=prcntg), msa.TechVar(prcntg=prcntg), msa.P2P(prcntg=prcntg), msa.Total_Var(prcntg=prcntg)"
   ]
  },
  {
   "cell_type": "code",
   "execution_count": null,
   "metadata": {},
   "outputs": [],
   "source": [
    "msa.summary()"
   ]
  },
  {
   "cell_type": "code",
   "execution_count": 15,
   "metadata": {},
   "outputs": [
    {
     "name": "stdout",
     "output_type": "stream",
     "text": [
      "╒═══════════════════════╤══════╤═════════╤════════╤═══════╤═══════╤═══════════╤═══════════╕\n",
      "│ Sources of Variance   │   DF │      SS │     MS │   Var │   Std │ F-value   │ P-value   │\n",
      "╞═══════════════════════╪══════╪═════════╪════════╪═══════╪═══════╪═══════════╪═══════════╡\n",
      "│ Operator              │    2 │   0.1   │  0.05  │ 0.001 │ 0.029 │ 2.013     │ 0.163     │\n",
      "├───────────────────────┼──────┼─────────┼────────┼───────┼───────┼───────────┼───────────┤\n",
      "│ Part                  │    9 │ 116.529 │ 12.948 │ 1.436 │ 1.198 │ 521.610   │ 0.000     │\n",
      "├───────────────────────┼──────┼─────────┼────────┼───────┼───────┼───────────┼───────────┤\n",
      "│ Operator by Part      │   18 │   0.447 │  0.025 │ 0     │ 0     │ 0.413     │ 0.980     │\n",
      "├───────────────────────┼──────┼─────────┼────────┼───────┼───────┼───────────┼───────────┤\n",
      "│ Measurement           │   60 │   3.606 │  0.06  │ 0.06  │ 0.245 │           │           │\n",
      "├───────────────────────┼──────┼─────────┼────────┼───────┼───────┼───────────┼───────────┤\n",
      "│ Total                 │   89 │ 120.682 │  1.356 │ 1.497 │ 1.223 │           │           │\n",
      "╘═══════════════════════╧══════╧═════════╧════════╧═══════╧═══════╧═══════════╧═══════════╛\n"
     ]
    }
   ],
   "source": [
    "print(msa.g.summary())"
   ]
  },
  {
   "cell_type": "code",
   "execution_count": 17,
   "metadata": {},
   "outputs": [
    {
     "data": {
      "text/plain": [
       "60"
      ]
     },
     "execution_count": 17,
     "metadata": {},
     "output_type": "execute_result"
    }
   ],
   "source": [
    "msa.result[Result.DF][Component.MEASUREMENT]"
   ]
  },
  {
   "cell_type": "code",
   "execution_count": 16,
   "metadata": {},
   "outputs": [
    {
     "data": {
      "text/plain": [
       "0.06009666666666666"
      ]
     },
     "execution_count": 16,
     "metadata": {},
     "output_type": "execute_result"
    }
   ],
   "source": [
    "msa.sgm2_rpt"
   ]
  },
  {
   "cell_type": "code",
   "execution_count": 61,
   "metadata": {},
   "outputs": [],
   "source": [
    "a = NormalDist(mu=100, sigma=0.1)\n",
    "b = NormalDist(mu=100, sigma=0.3)\n",
    "c = NormalDist(mu=30, sigma=0.2)\n",
    "data = np.array([[detail.samples(3)\n",
    "                 for detail in [a, b, c]]\n",
    "                 for __ in range(4)])"
   ]
  },
  {
   "cell_type": "code",
   "execution_count": 62,
   "metadata": {},
   "outputs": [
    {
     "data": {
      "text/plain": [
       "(0.003068732266719593,\n",
       " 0.003068732266719593,\n",
       " 0.0005258433260691697,\n",
       " 99.99640542440721,\n",
       " 100.0)"
      ]
     },
     "execution_count": 62,
     "metadata": {},
     "output_type": "execute_result"
    }
   ],
   "source": [
    "msa = MSA().from_array(data=data)\n",
    "prcntg = True\n",
    "msa.GageRnR(prcntg=prcntg), msa.EV(prcntg=prcntg), msa.TechVar(prcntg=prcntg), msa.P2P(prcntg=prcntg), msa.Total_Var(prcntg=prcntg)"
   ]
  },
  {
   "cell_type": "code",
   "execution_count": 56,
   "metadata": {},
   "outputs": [
    {
     "name": "stdout",
     "output_type": "stream",
     "text": [
      "╒═══════════════════════╤══════╤═══════╤═══════╤═══════╤═══════╤═══════════╤═══════════╕\n",
      "│ Sources of Variance   │   DF │    SS │    MS │   Var │   Std │ F-value   │ P-value   │\n",
      "╞═══════════════════════╪══════╪═══════╪═══════╪═══════╪═══════╪═══════════╪═══════════╡\n",
      "│ Operator              │    3 │ 0.019 │ 0.006 │ 0     │ 0     │ 0.320     │ 0.811     │\n",
      "├───────────────────────┼──────┼───────┼───────┼───────┼───────┼───────────┼───────────┤\n",
      "│ Part                  │    3 │ 0.051 │ 0.017 │ 0     │ 0     │ 0.842     │ 0.505     │\n",
      "├───────────────────────┼──────┼───────┼───────┼───────┼───────┼───────────┼───────────┤\n",
      "│ Operator by Part      │    9 │ 0.18  │ 0.02  │ 0.003 │ 0.052 │ 2.226     │ 0.047     │\n",
      "├───────────────────────┼──────┼───────┼───────┼───────┼───────┼───────────┼───────────┤\n",
      "│ Measurement           │   32 │ 0.288 │ 0.009 │ 0.009 │ 0.095 │           │           │\n",
      "├───────────────────────┼──────┼───────┼───────┼───────┼───────┼───────────┼───────────┤\n",
      "│ Total                 │   47 │ 0.537 │ 0.011 │ 0.012 │ 0.108 │           │           │\n",
      "╘═══════════════════════╧══════╧═══════╧═══════╧═══════╧═══════╧═══════════╧═══════════╛\n"
     ]
    }
   ],
   "source": [
    "print(msa.g.summary())"
   ]
  },
  {
   "cell_type": "code",
   "execution_count": 49,
   "metadata": {},
   "outputs": [
    {
     "data": {
      "text/plain": [
       "(100.0, 100.0, 0.0, 0.0, 100.0)"
      ]
     },
     "execution_count": 49,
     "metadata": {},
     "output_type": "execute_result"
    }
   ],
   "source": [
    "msa.GageRnR(), msa.EV(), msa.TechVar(), msa.P2P(), msa.Total_Var()"
   ]
  },
  {
   "cell_type": "code",
   "execution_count": 44,
   "metadata": {},
   "outputs": [
    {
     "data": {
      "text/plain": [
       "(4, 4, 3)"
      ]
     },
     "execution_count": 44,
     "metadata": {},
     "output_type": "execute_result"
    }
   ],
   "source": [
    "data.shape"
   ]
  },
  {
   "cell_type": "code",
   "execution_count": 73,
   "metadata": {},
   "outputs": [
    {
     "name": "stdout",
     "output_type": "stream",
     "text": [
      "╒═══════════════════════╤══════╤════════╤═══════╤═══════╤═══════╤═══════════╤═══════════╕\n",
      "│ Sources of Variance   │   DF │     SS │    MS │   Var │   Std │ F-value   │ P-value   │\n",
      "╞═══════════════════════╪══════╪════════╪═══════╪═══════╪═══════╪═══════════╪═══════════╡\n",
      "│ Operator              │    3 │  0.501 │ 0.167 │ 0     │ 0     │ 0.155     │ 0.924     │\n",
      "├───────────────────────┼──────┼────────┼───────┼───────┼───────┼───────────┼───────────┤\n",
      "│ Part                  │    3 │ 10.488 │ 3.496 │ 0.201 │ 0.449 │ 3.236     │ 0.075     │\n",
      "├───────────────────────┼──────┼────────┼───────┼───────┼───────┼───────────┼───────────┤\n",
      "│ Operator by Part      │    9 │  9.722 │ 1.08  │ 0.024 │ 0.154 │ 1.097     │ 0.393     │\n",
      "├───────────────────────┼──────┼────────┼───────┼───────┼───────┼───────────┼───────────┤\n",
      "│ Measurement           │   32 │ 31.525 │ 0.985 │ 0.985 │ 0.993 │           │           │\n",
      "├───────────────────────┼──────┼────────┼───────┼───────┼───────┼───────────┼───────────┤\n",
      "│ Total                 │   47 │ 52.237 │ 1.111 │ 1.21  │ 1.1   │           │           │\n",
      "╘═══════════════════════╧══════╧════════╧═══════╧═══════╧═══════╧═══════════╧═══════════╛\n"
     ]
    }
   ],
   "source": [
    "g = GageRnR(data)\n",
    "g.calculate()\n",
    "print(g.summary())"
   ]
  },
  {
   "cell_type": "code",
   "execution_count": 46,
   "metadata": {},
   "outputs": [],
   "source": [
    "result = g.calculate()"
   ]
  },
  {
   "cell_type": "code",
   "execution_count": 51,
   "metadata": {},
   "outputs": [
    {
     "data": {
      "text/plain": [
       "3"
      ]
     },
     "execution_count": 51,
     "metadata": {},
     "output_type": "execute_result"
    }
   ],
   "source": [
    "g.measurements"
   ]
  },
  {
   "cell_type": "code",
   "execution_count": 47,
   "metadata": {},
   "outputs": [
    {
     "data": {
      "text/plain": [
       "0.8749324015178365"
      ]
     },
     "execution_count": 47,
     "metadata": {},
     "output_type": "execute_result"
    }
   ],
   "source": [
    "result[Result.MS][Component.OPERATOR_BY_PART]"
   ]
  }
 ],
 "metadata": {
  "kernelspec": {
   "display_name": ".venv",
   "language": "python",
   "name": "python3"
  },
  "language_info": {
   "codemirror_mode": {
    "name": "ipython",
    "version": 3
   },
   "file_extension": ".py",
   "mimetype": "text/x-python",
   "name": "python",
   "nbconvert_exporter": "python",
   "pygments_lexer": "ipython3",
   "version": "3.10.0"
  }
 },
 "nbformat": 4,
 "nbformat_minor": 2
}
